{
 "cells": [
  {
   "cell_type": "code",
   "execution_count": 1,
   "metadata": {},
   "outputs": [],
   "source": [
    "import pandas as pd\n",
    "import numpy as np\n",
    "from sklearn import datasets\n",
    "from sklearn.decomposition import PCA\n",
    "import matplotlib.pyplot as plt\n",
    "from sklearn.preprocessing import StandardScaler\n",
    "from sklearn import svm\n",
    "from sklearn.model_selection import train_test_split"
   ]
  },
  {
   "cell_type": "code",
   "execution_count": 2,
   "metadata": {},
   "outputs": [],
   "source": [
    "def normalize(X):\n",
    "    features_num = X.shape[1]\n",
    "    Y = np.zeros(X.shape)\n",
    "    for i in range(features_num):\n",
    "        #normalization with mean = 0, std = 1\n",
    "        x = X[:, i]\n",
    "        sigma = np.std(x)\n",
    "        x = x - np.mean(x)\n",
    "        x /= sigma\n",
    "        Y[:, i] = x\n",
    "    return Y"
   ]
  },
  {
   "cell_type": "code",
   "execution_count": 3,
   "metadata": {},
   "outputs": [],
   "source": [
    "#load dataset\n",
    "iris = datasets.load_iris()\n",
    "x = iris.data\n",
    "y = iris.target"
   ]
  },
  {
   "cell_type": "code",
   "execution_count": 4,
   "metadata": {
    "scrolled": true
   },
   "outputs": [
    {
     "name": "stdout",
     "output_type": "stream",
     "text": [
      "number of data: 150\n",
      "sepal length (cm)\tsepal width (cm)\tpetal length (cm)\tpetal width (cm)\ttarget\n",
      "5.1\t\t\t3.5\t\t\t1.4\t\t\t0.2\t\t\tsetosa\n",
      "4.9\t\t\t3.0\t\t\t1.4\t\t\t0.2\t\t\tsetosa\n",
      "4.7\t\t\t3.2\t\t\t1.3\t\t\t0.2\t\t\tsetosa\n",
      "4.6\t\t\t3.1\t\t\t1.5\t\t\t0.2\t\t\tsetosa\n",
      "5.0\t\t\t3.6\t\t\t1.4\t\t\t0.2\t\t\tsetosa\n"
     ]
    }
   ],
   "source": [
    "#structure of the dataset\n",
    "print(\"number of data: \" + str(len(x)))\n",
    "for i1 in range(len(iris.feature_names)):\n",
    "    print(iris.feature_names[i1], end = \"\\t\")\n",
    "print(\"target\")\n",
    "for i in range(5):\n",
    "    for i1 in range(len(iris.feature_names)):\n",
    "        print(str(iris.data[i][i1]), end = \"\\t\\t\\t\")\n",
    "    print(iris.target_names[iris.target[i]])"
   ]
  },
  {
   "cell_type": "code",
   "execution_count": 5,
   "metadata": {},
   "outputs": [
    {
     "name": "stdout",
     "output_type": "stream",
     "text": [
      "(150, 2)\n"
     ]
    }
   ],
   "source": [
    "#it is essential to do moralization before using PCA (principle component analysis)\n",
    "nor_x = normalize(x)\n",
    "#nor_x = StandardScaler().fit_transform(x)\n",
    "\n",
    "#prject from 4D to 2D\n",
    "pca = PCA(n_components = 2)\n",
    "principleComponents  = pca.fit_transform(nor_x)\n",
    "print(principleComponents.shape)"
   ]
  },
  {
   "cell_type": "code",
   "execution_count": 6,
   "metadata": {},
   "outputs": [
    {
     "data": {
      "image/png": "[encoded data removed]",
      "text/plain": [
       "<Figure size 432x288 with 1 Axes>"
      ]
     },
     "metadata": {
      "needs_background": "light"
     },
     "output_type": "display_data"
    }
   ],
   "source": [
    "#visualize 2D projection\n",
    "colors = ['r', 'g', 'b']\n",
    "for i2 in range(len(y)):\n",
    "        plt.scatter(principleComponents[i2][0], principleComponents[i2][1], color = colors[y[i2]])\n"
   ]
  },
  {
   "cell_type": "code",
   "execution_count": 7,
   "metadata": {},
   "outputs": [
    {
     "data": {
      "text/plain": [
       "0.9581320720000163"
      ]
     },
     "execution_count": 7,
     "metadata": {},
     "output_type": "execute_result"
    }
   ],
   "source": [
    "#explained variance\n",
    "np.sum(pca.explained_variance_ratio_)"
   ]
  },
  {
   "cell_type": "code",
   "execution_count": 8,
   "metadata": {},
   "outputs": [
    {
     "data": {
      "text/plain": [
       "SVC(C=1, break_ties=False, cache_size=200, class_weight=None, coef0=0.0,\n",
       "    decision_function_shape='ovr', degree=3, gamma='auto', kernel='rbf',\n",
       "    max_iter=-1, probability=False, random_state=None, shrinking=True,\n",
       "    tol=0.001, verbose=False)"
      ]
     },
     "execution_count": 8,
     "metadata": {},
     "output_type": "execute_result"
    }
   ],
   "source": [
    "#split dataset\n",
    "x_train, x_test, y_train, y_test = train_test_split(principleComponents, y,test_size=0.2,random_state=0)\n",
    "#define model\n",
    "#Guassian (rbf)\n",
    "clf = svm.SVC(kernel='rbf', C=1, gamma='auto')\n",
    "#train model\n",
    "clf.fit(x_train,y_train)"
   ]
  },
  {
   "cell_type": "code",
   "execution_count": 9,
   "metadata": {},
   "outputs": [
    {
     "name": "stdout",
     "output_type": "stream",
     "text": [
      "accuracy of train: 0.9166666666666666\n",
      "accuracy of test: 0.9333333333333333\n",
      "GT: [2 1 0 2 0]\n",
      "Prediction: [2 1 0 2 0]\n"
     ]
    }
   ],
   "source": [
    "#accuracy\n",
    "print(\"accuracy of train: \" + str(clf.score(x_train,y_train)))\n",
    "print(\"accuracy of test: \" + str(clf.score(x_test, y_test)))\n",
    "print(\"GT: \" + str(y_test[:5]))\n",
    "print(\"Prediction: \" + str(clf.predict(x_test[:5])))"
   ]
  }
 ],
 "metadata": {
  "kernelspec": {
   "display_name": "Python 3",
   "language": "python",
   "name": "python3"
  },
  "language_info": {
   "codemirror_mode": {
    "name": "ipython",
    "version": 3
   },
   "file_extension": ".py",
   "mimetype": "text/x-python",
   "name": "python",
   "nbconvert_exporter": "python",
   "pygments_lexer": "ipython3",
   "version": "3.7.6"
  }
 },
 "nbformat": 4,
 "nbformat_minor": 4
}
